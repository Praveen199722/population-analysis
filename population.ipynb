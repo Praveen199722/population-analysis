{
 "cells": [
  {
   "cell_type": "code",
   "execution_count": 4,
   "id": "fc4d3c9a",
   "metadata": {},
   "outputs": [],
   "source": [
    "import numpy as np\n",
    "import pandas as pd \n",
    "import matplotlib.pyplot as plt\n",
    "import seaborn as sns"
   ]
  },
  {
   "cell_type": "code",
   "execution_count": 37,
   "id": "3f13948b",
   "metadata": {},
   "outputs": [],
   "source": [
    "import os"
   ]
  },
  {
   "cell_type": "code",
   "execution_count": 10,
   "id": "517c2242",
   "metadata": {
    "scrolled": true
   },
   "outputs": [],
   "source": [
    "dataset=pd.read_csv(\"List of world cities by population density.csv\")"
   ]
  },
  {
   "cell_type": "code",
   "execution_count": 11,
   "id": "04fa3bf7",
   "metadata": {},
   "outputs": [
    {
     "data": {
      "text/html": [
       "<div>\n",
       "<style scoped>\n",
       "    .dataframe tbody tr th:only-of-type {\n",
       "        vertical-align: middle;\n",
       "    }\n",
       "\n",
       "    .dataframe tbody tr th {\n",
       "        vertical-align: top;\n",
       "    }\n",
       "\n",
       "    .dataframe thead th {\n",
       "        text-align: right;\n",
       "    }\n",
       "</style>\n",
       "<table border=\"1\" class=\"dataframe\">\n",
       "  <thead>\n",
       "    <tr style=\"text-align: right;\">\n",
       "      <th></th>\n",
       "      <th>Unnamed: 0</th>\n",
       "      <th>City</th>\n",
       "      <th>Population</th>\n",
       "      <th>Area (km²)</th>\n",
       "      <th>Area (mi²)</th>\n",
       "      <th>Density (/km²)</th>\n",
       "      <th>Density (/mi²)</th>\n",
       "      <th>Country</th>\n",
       "    </tr>\n",
       "  </thead>\n",
       "  <tbody>\n",
       "    <tr>\n",
       "      <th>0</th>\n",
       "      <td>0</td>\n",
       "      <td>Malé</td>\n",
       "      <td>153,904[1]</td>\n",
       "      <td>1.956[1]</td>\n",
       "      <td>0.755</td>\n",
       "      <td>78683</td>\n",
       "      <td>203846.0</td>\n",
       "      <td>Maldives</td>\n",
       "    </tr>\n",
       "    <tr>\n",
       "      <th>1</th>\n",
       "      <td>1</td>\n",
       "      <td>Manila</td>\n",
       "      <td>1,660,714[2]</td>\n",
       "      <td>38.55[3]</td>\n",
       "      <td>14.88</td>\n",
       "      <td>43079</td>\n",
       "      <td>111576.0</td>\n",
       "      <td>Philippines</td>\n",
       "    </tr>\n",
       "    <tr>\n",
       "      <th>2</th>\n",
       "      <td>2</td>\n",
       "      <td>Bogor</td>\n",
       "      <td>866,034[4]</td>\n",
       "      <td>21.56[5]</td>\n",
       "      <td>8.32</td>\n",
       "      <td>40169</td>\n",
       "      <td>104037.0</td>\n",
       "      <td>Indonesia</td>\n",
       "    </tr>\n",
       "    <tr>\n",
       "      <th>3</th>\n",
       "      <td>3</td>\n",
       "      <td>Titagarh</td>\n",
       "      <td>124,213[6]</td>\n",
       "      <td>3.24[7]</td>\n",
       "      <td>1.25</td>\n",
       "      <td>38337</td>\n",
       "      <td>99293.0</td>\n",
       "      <td>India</td>\n",
       "    </tr>\n",
       "    <tr>\n",
       "      <th>4</th>\n",
       "      <td>4</td>\n",
       "      <td>Baranagar</td>\n",
       "      <td>250,768[6]</td>\n",
       "      <td>7.12[7]</td>\n",
       "      <td>2.75</td>\n",
       "      <td>35220</td>\n",
       "      <td>91220.0</td>\n",
       "      <td>India</td>\n",
       "    </tr>\n",
       "  </tbody>\n",
       "</table>\n",
       "</div>"
      ],
      "text/plain": [
       "   Unnamed: 0       City    Population Area (km²) Area (mi²)  Density (/km²)  \\\n",
       "0           0       Malé    153,904[1]   1.956[1]      0.755           78683   \n",
       "1           1     Manila  1,660,714[2]   38.55[3]      14.88           43079   \n",
       "2           2      Bogor    866,034[4]   21.56[5]       8.32           40169   \n",
       "3           3   Titagarh    124,213[6]    3.24[7]       1.25           38337   \n",
       "4           4  Baranagar    250,768[6]    7.12[7]       2.75           35220   \n",
       "\n",
       "   Density (/mi²)      Country  \n",
       "0        203846.0     Maldives  \n",
       "1        111576.0  Philippines  \n",
       "2        104037.0    Indonesia  \n",
       "3         99293.0        India  \n",
       "4         91220.0        India  "
      ]
     },
     "execution_count": 11,
     "metadata": {},
     "output_type": "execute_result"
    }
   ],
   "source": [
    "dataset.head()"
   ]
  },
  {
   "cell_type": "code",
   "execution_count": 12,
   "id": "03bd5528",
   "metadata": {},
   "outputs": [
    {
     "name": "stdout",
     "output_type": "stream",
     "text": [
      "<class 'pandas.core.frame.DataFrame'>\n",
      "RangeIndex: 50 entries, 0 to 49\n",
      "Data columns (total 8 columns):\n",
      "Unnamed: 0        50 non-null int64\n",
      "City              50 non-null object\n",
      "Population        50 non-null object\n",
      "Area (km²)        50 non-null object\n",
      "Area (mi²)        50 non-null object\n",
      "Density (/km²)    50 non-null int64\n",
      "Density (/mi²)    50 non-null float64\n",
      "Country           50 non-null object\n",
      "dtypes: float64(1), int64(2), object(5)\n",
      "memory usage: 3.2+ KB\n"
     ]
    }
   ],
   "source": [
    "dataset.info()"
   ]
  },
  {
   "cell_type": "code",
   "execution_count": 13,
   "id": "6a2d5dd3",
   "metadata": {},
   "outputs": [
    {
     "data": {
      "text/html": [
       "<div>\n",
       "<style scoped>\n",
       "    .dataframe tbody tr th:only-of-type {\n",
       "        vertical-align: middle;\n",
       "    }\n",
       "\n",
       "    .dataframe tbody tr th {\n",
       "        vertical-align: top;\n",
       "    }\n",
       "\n",
       "    .dataframe thead th {\n",
       "        text-align: right;\n",
       "    }\n",
       "</style>\n",
       "<table border=\"1\" class=\"dataframe\">\n",
       "  <thead>\n",
       "    <tr style=\"text-align: right;\">\n",
       "      <th></th>\n",
       "      <th>Unnamed: 0</th>\n",
       "      <th>Density (/km²)</th>\n",
       "      <th>Density (/mi²)</th>\n",
       "    </tr>\n",
       "  </thead>\n",
       "  <tbody>\n",
       "    <tr>\n",
       "      <th>count</th>\n",
       "      <td>50.00000</td>\n",
       "      <td>50.000000</td>\n",
       "      <td>50.000000</td>\n",
       "    </tr>\n",
       "    <tr>\n",
       "      <th>mean</th>\n",
       "      <td>24.50000</td>\n",
       "      <td>24374.940000</td>\n",
       "      <td>62112.012600</td>\n",
       "    </tr>\n",
       "    <tr>\n",
       "      <th>std</th>\n",
       "      <td>14.57738</td>\n",
       "      <td>9923.133389</td>\n",
       "      <td>27171.893718</td>\n",
       "    </tr>\n",
       "    <tr>\n",
       "      <th>min</th>\n",
       "      <td>0.00000</td>\n",
       "      <td>15718.000000</td>\n",
       "      <td>53.630000</td>\n",
       "    </tr>\n",
       "    <tr>\n",
       "      <th>25%</th>\n",
       "      <td>12.25000</td>\n",
       "      <td>19083.250000</td>\n",
       "      <td>48555.250000</td>\n",
       "    </tr>\n",
       "    <tr>\n",
       "      <th>50%</th>\n",
       "      <td>24.50000</td>\n",
       "      <td>22245.000000</td>\n",
       "      <td>57614.500000</td>\n",
       "    </tr>\n",
       "    <tr>\n",
       "      <th>75%</th>\n",
       "      <td>36.75000</td>\n",
       "      <td>25776.250000</td>\n",
       "      <td>66761.000000</td>\n",
       "    </tr>\n",
       "    <tr>\n",
       "      <th>max</th>\n",
       "      <td>49.00000</td>\n",
       "      <td>78683.000000</td>\n",
       "      <td>203846.000000</td>\n",
       "    </tr>\n",
       "  </tbody>\n",
       "</table>\n",
       "</div>"
      ],
      "text/plain": [
       "       Unnamed: 0  Density (/km²)  Density (/mi²)\n",
       "count    50.00000       50.000000       50.000000\n",
       "mean     24.50000    24374.940000    62112.012600\n",
       "std      14.57738     9923.133389    27171.893718\n",
       "min       0.00000    15718.000000       53.630000\n",
       "25%      12.25000    19083.250000    48555.250000\n",
       "50%      24.50000    22245.000000    57614.500000\n",
       "75%      36.75000    25776.250000    66761.000000\n",
       "max      49.00000    78683.000000   203846.000000"
      ]
     },
     "execution_count": 13,
     "metadata": {},
     "output_type": "execute_result"
    }
   ],
   "source": [
    "dataset.describe()"
   ]
  },
  {
   "cell_type": "code",
   "execution_count": 14,
   "id": "71e7e1fb",
   "metadata": {},
   "outputs": [
    {
     "name": "stdout",
     "output_type": "stream",
     "text": [
      "shape (50, 8)\n"
     ]
    }
   ],
   "source": [
    "print('shape',dataset.shape)"
   ]
  },
  {
   "cell_type": "code",
   "execution_count": 15,
   "id": "4ff2149c",
   "metadata": {},
   "outputs": [
    {
     "name": "stdout",
     "output_type": "stream",
     "text": [
      "column Index(['Unnamed: 0', 'City', 'Population', 'Area (km²)', 'Area (mi²)',\n",
      "       'Density (/km²)', 'Density (/mi²)', 'Country'],\n",
      "      dtype='object')\n"
     ]
    }
   ],
   "source": [
    "print('column',dataset.columns)"
   ]
  },
  {
   "cell_type": "code",
   "execution_count": 23,
   "id": "daf6acdd",
   "metadata": {},
   "outputs": [
    {
     "data": {
      "text/plain": [
       "Unnamed: 0        False\n",
       "City              False\n",
       "Population        False\n",
       "Area (km²)        False\n",
       "Area (mi²)        False\n",
       "Density (/km²)    False\n",
       "Density (/mi²)    False\n",
       "Country           False\n",
       "dtype: bool"
      ]
     },
     "execution_count": 23,
     "metadata": {},
     "output_type": "execute_result"
    }
   ],
   "source": [
    "dataset.isnull().any()"
   ]
  },
  {
   "cell_type": "code",
   "execution_count": 35,
   "id": "504b8e27",
   "metadata": {},
   "outputs": [
    {
     "name": "stdout",
     "output_type": "stream",
     "text": [
      "Requirement already satisfied: que in c:\\users\\prave\\anaconda3\\envs\\aiml\\lib\\site-packages (0.0.2)\n",
      "Requirement already satisfied: beautifulsoup4 in c:\\users\\prave\\anaconda3\\envs\\aiml\\lib\\site-packages (from que) (4.11.1)\n",
      "Requirement already satisfied: soupsieve>1.2 in c:\\users\\prave\\anaconda3\\envs\\aiml\\lib\\site-packages (from beautifulsoup4->que) (2.3.2.post1)\n"
     ]
    }
   ],
   "source": [
    "!pip install que"
   ]
  },
  {
   "cell_type": "code",
   "execution_count": 40,
   "id": "ce6f7672",
   "metadata": {},
   "outputs": [
    {
     "name": "stdout",
     "output_type": "stream",
     "text": [
      "Unnamed: 0 : 50\n",
      "City : 50\n",
      "Population : 50\n",
      "Area (km²) : 50\n",
      "Area (mi²) : 49\n",
      "Density (/km²) : 49\n",
      "Density (/mi²) : 49\n",
      "Country : 14\n"
     ]
    }
   ],
   "source": [
    "for columns in dataset.columns:\n",
    "    print(columns,':',dataset[columns].nunique())"
   ]
  },
  {
   "cell_type": "code",
   "execution_count": 41,
   "id": "4fcf18d0",
   "metadata": {},
   "outputs": [
    {
     "data": {
      "text/html": [
       "<div>\n",
       "<style scoped>\n",
       "    .dataframe tbody tr th:only-of-type {\n",
       "        vertical-align: middle;\n",
       "    }\n",
       "\n",
       "    .dataframe tbody tr th {\n",
       "        vertical-align: top;\n",
       "    }\n",
       "\n",
       "    .dataframe thead th {\n",
       "        text-align: right;\n",
       "    }\n",
       "</style>\n",
       "<table border=\"1\" class=\"dataframe\">\n",
       "  <thead>\n",
       "    <tr style=\"text-align: right;\">\n",
       "      <th></th>\n",
       "      <th>Unnamed: 0</th>\n",
       "      <th>City</th>\n",
       "      <th>Population</th>\n",
       "      <th>Area (km²)</th>\n",
       "      <th>Area (mi²)</th>\n",
       "      <th>Density (/km²)</th>\n",
       "      <th>Density (/mi²)</th>\n",
       "      <th>Country</th>\n",
       "    </tr>\n",
       "  </thead>\n",
       "  <tbody>\n",
       "    <tr>\n",
       "      <th>0</th>\n",
       "      <td>0</td>\n",
       "      <td>Malé</td>\n",
       "      <td>153,904[1]</td>\n",
       "      <td>1.956[1]</td>\n",
       "      <td>0.755</td>\n",
       "      <td>78683</td>\n",
       "      <td>203846.0</td>\n",
       "      <td>Maldives</td>\n",
       "    </tr>\n",
       "    <tr>\n",
       "      <th>1</th>\n",
       "      <td>1</td>\n",
       "      <td>Manila</td>\n",
       "      <td>1,660,714[2]</td>\n",
       "      <td>38.55[3]</td>\n",
       "      <td>14.88</td>\n",
       "      <td>43079</td>\n",
       "      <td>111576.0</td>\n",
       "      <td>Philippines</td>\n",
       "    </tr>\n",
       "    <tr>\n",
       "      <th>2</th>\n",
       "      <td>2</td>\n",
       "      <td>Bogor</td>\n",
       "      <td>866,034[4]</td>\n",
       "      <td>21.56[5]</td>\n",
       "      <td>8.32</td>\n",
       "      <td>40169</td>\n",
       "      <td>104037.0</td>\n",
       "      <td>Indonesia</td>\n",
       "    </tr>\n",
       "    <tr>\n",
       "      <th>3</th>\n",
       "      <td>3</td>\n",
       "      <td>Titagarh</td>\n",
       "      <td>124,213[6]</td>\n",
       "      <td>3.24[7]</td>\n",
       "      <td>1.25</td>\n",
       "      <td>38337</td>\n",
       "      <td>99293.0</td>\n",
       "      <td>India</td>\n",
       "    </tr>\n",
       "    <tr>\n",
       "      <th>4</th>\n",
       "      <td>4</td>\n",
       "      <td>Baranagar</td>\n",
       "      <td>250,768[6]</td>\n",
       "      <td>7.12[7]</td>\n",
       "      <td>2.75</td>\n",
       "      <td>35220</td>\n",
       "      <td>91220.0</td>\n",
       "      <td>India</td>\n",
       "    </tr>\n",
       "  </tbody>\n",
       "</table>\n",
       "</div>"
      ],
      "text/plain": [
       "   Unnamed: 0       City    Population Area (km²) Area (mi²)  Density (/km²)  \\\n",
       "0           0       Malé    153,904[1]   1.956[1]      0.755           78683   \n",
       "1           1     Manila  1,660,714[2]   38.55[3]      14.88           43079   \n",
       "2           2      Bogor    866,034[4]   21.56[5]       8.32           40169   \n",
       "3           3   Titagarh    124,213[6]    3.24[7]       1.25           38337   \n",
       "4           4  Baranagar    250,768[6]    7.12[7]       2.75           35220   \n",
       "\n",
       "   Density (/mi²)      Country  \n",
       "0        203846.0     Maldives  \n",
       "1        111576.0  Philippines  \n",
       "2        104037.0    Indonesia  \n",
       "3         99293.0        India  \n",
       "4         91220.0        India  "
      ]
     },
     "execution_count": 41,
     "metadata": {},
     "output_type": "execute_result"
    }
   ],
   "source": [
    "dataset.head()"
   ]
  },
  {
   "cell_type": "code",
   "execution_count": 44,
   "id": "b15c92c0",
   "metadata": {},
   "outputs": [
    {
     "data": {
      "text/html": [
       "<div>\n",
       "<style scoped>\n",
       "    .dataframe tbody tr th:only-of-type {\n",
       "        vertical-align: middle;\n",
       "    }\n",
       "\n",
       "    .dataframe tbody tr th {\n",
       "        vertical-align: top;\n",
       "    }\n",
       "\n",
       "    .dataframe thead th {\n",
       "        text-align: right;\n",
       "    }\n",
       "</style>\n",
       "<table border=\"1\" class=\"dataframe\">\n",
       "  <thead>\n",
       "    <tr style=\"text-align: right;\">\n",
       "      <th></th>\n",
       "      <th>Unnamed: 0</th>\n",
       "      <th>City</th>\n",
       "      <th>Population</th>\n",
       "      <th>Area (km²)</th>\n",
       "      <th>Area (mi²)</th>\n",
       "      <th>Density (/km²)</th>\n",
       "      <th>Density (/mi²)</th>\n",
       "      <th>Country</th>\n",
       "    </tr>\n",
       "  </thead>\n",
       "  <tbody>\n",
       "    <tr>\n",
       "      <th>2</th>\n",
       "      <td>2</td>\n",
       "      <td>Bogor</td>\n",
       "      <td>866,034[4]</td>\n",
       "      <td>21.56[5]</td>\n",
       "      <td>8.32</td>\n",
       "      <td>40169</td>\n",
       "      <td>104037.0</td>\n",
       "      <td>Indonesia</td>\n",
       "    </tr>\n",
       "  </tbody>\n",
       "</table>\n",
       "</div>"
      ],
      "text/plain": [
       "   Unnamed: 0   City  Population Area (km²) Area (mi²)  Density (/km²)  \\\n",
       "2           2  Bogor  866,034[4]   21.56[5]       8.32           40169   \n",
       "\n",
       "   Density (/mi²)    Country  \n",
       "2        104037.0  Indonesia  "
      ]
     },
     "execution_count": 44,
     "metadata": {},
     "output_type": "execute_result"
    }
   ],
   "source": [
    "dataset[dataset['Population']== dataset['Population'].max()]"
   ]
  },
  {
   "cell_type": "code",
   "execution_count": 45,
   "id": "98003fc1",
   "metadata": {},
   "outputs": [
    {
     "data": {
      "text/html": [
       "<div>\n",
       "<style scoped>\n",
       "    .dataframe tbody tr th:only-of-type {\n",
       "        vertical-align: middle;\n",
       "    }\n",
       "\n",
       "    .dataframe tbody tr th {\n",
       "        vertical-align: top;\n",
       "    }\n",
       "\n",
       "    .dataframe thead th {\n",
       "        text-align: right;\n",
       "    }\n",
       "</style>\n",
       "<table border=\"1\" class=\"dataframe\">\n",
       "  <thead>\n",
       "    <tr style=\"text-align: right;\">\n",
       "      <th></th>\n",
       "      <th>Unnamed: 0</th>\n",
       "      <th>City</th>\n",
       "      <th>Population</th>\n",
       "      <th>Area (km²)</th>\n",
       "      <th>Area (mi²)</th>\n",
       "      <th>Density (/km²)</th>\n",
       "      <th>Density (/mi²)</th>\n",
       "      <th>Country</th>\n",
       "    </tr>\n",
       "  </thead>\n",
       "  <tbody>\n",
       "    <tr>\n",
       "      <th>33</th>\n",
       "      <td>33</td>\n",
       "      <td>Howrah</td>\n",
       "      <td>1,007,532[6]</td>\n",
       "      <td>51.74[7]</td>\n",
       "      <td>19.98</td>\n",
       "      <td>19473</td>\n",
       "      <td>50435.0</td>\n",
       "      <td>India</td>\n",
       "    </tr>\n",
       "  </tbody>\n",
       "</table>\n",
       "</div>"
      ],
      "text/plain": [
       "    Unnamed: 0    City    Population Area (km²) Area (mi²)  Density (/km²)  \\\n",
       "33          33  Howrah  1,007,532[6]   51.74[7]      19.98           19473   \n",
       "\n",
       "    Density (/mi²) Country  \n",
       "33         50435.0   India  "
      ]
     },
     "execution_count": 45,
     "metadata": {},
     "output_type": "execute_result"
    }
   ],
   "source": [
    "dataset[dataset['Population'] == dataset['Population'].min()]"
   ]
  },
  {
   "cell_type": "code",
   "execution_count": 50,
   "id": "95905243",
   "metadata": {},
   "outputs": [
    {
     "name": "stdout",
     "output_type": "stream",
     "text": [
      "MIN: 1,007,532[6]\n",
      "MODE: 1,007,532[6]\n",
      "MAX: 866,034[4]\n"
     ]
    }
   ],
   "source": [
    "print('MIN:',dataset['Population'].min())\n",
    "print('MODE:',dataset['Population'].mode()[0])\n",
    "print('MAX:',dataset['Population'].max())\n"
   ]
  },
  {
   "cell_type": "code",
   "execution_count": 52,
   "id": "e06e06bc",
   "metadata": {},
   "outputs": [
    {
     "name": "stdout",
     "output_type": "stream",
     "text": [
      "Population min : 1,007,532[6]\n",
      "Population mode : 1,007,532[6]\n",
      "Population max : 866,034[4] \n",
      "\n",
      "Area (km²) min : 0.52[7]\n",
      "Area (km²) mode : 0.52[7]\n",
      "Area (km²) max : 7.12[7] \n",
      "\n",
      "Area (mi²) min : 0.20\n",
      "Area (mi²) mode : 19.98\n",
      "Area (mi²) max : 8.32 \n",
      "\n",
      "Density (/km²) min : 15718\n",
      "Density (/km²) mode : 23076\n",
      "Density (/km²) max : 78683 \n",
      "\n",
      "Density (/mi²) min : 53.63\n",
      "Density (/mi²) mode : 59767.0\n",
      "Density (/mi²) max : 203846.0 \n",
      "\n"
     ]
    }
   ],
   "source": [
    "numerical_list = ['Population','Area (km²)','Area (mi²)','Density (/km²)','Density (/mi²)']\n",
    "for columns in numerical_list:\n",
    "    print(columns,'min :',dataset[columns].min())\n",
    "    print(columns,'mode :',dataset[columns].mode()[0])\n",
    "    print(columns,'max :',dataset[columns].max(),'\\n')"
   ]
  },
  {
   "cell_type": "code",
   "execution_count": 53,
   "id": "6f373726",
   "metadata": {},
   "outputs": [
    {
     "data": {
      "text/html": [
       "<div>\n",
       "<style scoped>\n",
       "    .dataframe tbody tr th:only-of-type {\n",
       "        vertical-align: middle;\n",
       "    }\n",
       "\n",
       "    .dataframe tbody tr th {\n",
       "        vertical-align: top;\n",
       "    }\n",
       "\n",
       "    .dataframe thead th {\n",
       "        text-align: right;\n",
       "    }\n",
       "</style>\n",
       "<table border=\"1\" class=\"dataframe\">\n",
       "  <thead>\n",
       "    <tr style=\"text-align: right;\">\n",
       "      <th></th>\n",
       "      <th>Unnamed: 0</th>\n",
       "      <th>Density (/km²)</th>\n",
       "      <th>Density (/mi²)</th>\n",
       "    </tr>\n",
       "  </thead>\n",
       "  <tbody>\n",
       "    <tr>\n",
       "      <th>Unnamed: 0</th>\n",
       "      <td>1.000000</td>\n",
       "      <td>-0.721414</td>\n",
       "      <td>-0.697018</td>\n",
       "    </tr>\n",
       "    <tr>\n",
       "      <th>Density (/km²)</th>\n",
       "      <td>-0.721414</td>\n",
       "      <td>1.000000</td>\n",
       "      <td>0.960336</td>\n",
       "    </tr>\n",
       "    <tr>\n",
       "      <th>Density (/mi²)</th>\n",
       "      <td>-0.697018</td>\n",
       "      <td>0.960336</td>\n",
       "      <td>1.000000</td>\n",
       "    </tr>\n",
       "  </tbody>\n",
       "</table>\n",
       "</div>"
      ],
      "text/plain": [
       "                Unnamed: 0  Density (/km²)  Density (/mi²)\n",
       "Unnamed: 0        1.000000       -0.721414       -0.697018\n",
       "Density (/km²)   -0.721414        1.000000        0.960336\n",
       "Density (/mi²)   -0.697018        0.960336        1.000000"
      ]
     },
     "execution_count": 53,
     "metadata": {},
     "output_type": "execute_result"
    }
   ],
   "source": [
    "dataset.corr()"
   ]
  },
  {
   "cell_type": "code",
   "execution_count": 55,
   "id": "c266d44c",
   "metadata": {},
   "outputs": [
    {
     "data": {
      "image/png": "[encoded data removed]",
      "text/plain": [
       "<Figure size 640x480 with 1 Axes>"
      ]
     },
     "metadata": {},
     "output_type": "display_data"
    }
   ],
   "source": [
    "sns.boxplot(data=dataset, x='Country', y='Density (/km²)')\n",
    "plt.xticks(rotation=90)\n",
    "plt.title('Density by Country')\n",
    "plt.show()"
   ]
  },
  {
   "cell_type": "code",
   "execution_count": null,
   "id": "95b09fa7",
   "metadata": {},
   "outputs": [],
   "source": []
  }
 ],
 "metadata": {
  "kernelspec": {
   "display_name": "Python 3 (ipykernel)",
   "language": "python",
   "name": "python3"
  },
  "language_info": {
   "codemirror_mode": {
    "name": "ipython",
    "version": 3
   },
   "file_extension": ".py",
   "mimetype": "text/x-python",
   "name": "python",
   "nbconvert_exporter": "python",
   "pygments_lexer": "ipython3",
   "version": "3.7.6"
  }
 },
 "nbformat": 4,
 "nbformat_minor": 5
}
